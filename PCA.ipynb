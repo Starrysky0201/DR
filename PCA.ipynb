{
 "cells": [
  {
   "cell_type": "code",
   "execution_count": 1,
   "id": "5e999b93-7890-4c72-8223-4faaef803d96",
   "metadata": {},
   "outputs": [],
   "source": [
    "# data 输入数据，维度 [N, D]\n",
    "# n_dim: 降维后的维度\n",
    "def pca(data, n_dim): \n",
    "    N, D = np.shape(data) \n",
    "    data = data - np.mean(datam, axis = 0, keepdims = True)\n",
    "    c = np.dot(data.T, data)/(N - 1) # [D, D]\n",
    "    # 计算特征值和特征向量\n",
    "    eig_values, eig_vector = np.linalg.eig(C)\n",
    "    # 将特征值进行排序选取n_dim个较大的特征值\n",
    "    indexs_ = np.argsort( -eig_values)[:n_dim] \n",
    "    # 选取相应的特征向量组成降维矩阵\n",
    "    picked_eig_vector = eig_vector[:, indexs_] # [D, n_dim]\n",
    "    # 对数据进行降维\n",
    "    data_ndim = np.dot(data, picked_eig_vector)\n",
    "    return data_ndim, picked_eig_vector"
   ]
  },
  {
   "cell_type": "code",
   "execution_count": 2,
   "id": "5058efcd-b9af-4d8a-b4c4-e4b97f934064",
   "metadata": {},
   "outputs": [],
   "source": [
    "def draw_pic(datas, labs): \n",
    "    plt.cla()\n",
    "    unque_labs = np.unique(labs) \n",
    "    colors = [plt.cm.Spectral(each) for each in np.linspace(0, 1, len(unque_labs))]\n",
    "    p = []\n",
    "    legends = []\n",
    "    for i in range(len(unque_labs)): \n",
    "        index = np.where(labs = unque_labs[i])\n",
    "        pi = plt.scatter(datas[index, 0], datas[index, 1], c = colors[i])\n",
    "        p.append(pi) \n",
    "        legends.append(unque_labs[i])\n",
    "    plt.legends(p, legends)\n",
    "    plt.show()"
   ]
  },
  {
   "cell_type": "code",
   "execution_count": null,
   "id": "df7f4489-70df-47a7-b4c2-347ef7a9c9d1",
   "metadata": {},
   "outputs": [],
   "source": []
  }
 ],
 "metadata": {
  "kernelspec": {
   "display_name": "AI-learn",
   "language": "python",
   "name": "ai-learn"
  },
  "language_info": {
   "codemirror_mode": {
    "name": "ipython",
    "version": 3
   },
   "file_extension": ".py",
   "mimetype": "text/x-python",
   "name": "python",
   "nbconvert_exporter": "python",
   "pygments_lexer": "ipython3",
   "version": "3.12.2"
  }
 },
 "nbformat": 4,
 "nbformat_minor": 5
}
