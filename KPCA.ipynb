{
 "cells": [
  {
   "cell_type": "markdown",
   "id": "a132db8a-69a3-4753-a79b-51b7a474d16a",
   "metadata": {},
   "source": [
    "# Kernel-PCA的一般步骤\n",
    "（1） 给定样本点$X$（维度$[N, D]$，每个D维）\\\n",
    "（2） 利用核函数计算样本两两之间的关系矩阵 \\\n",
    "（3） 对$K$进行中心化 \\\n",
    "    ${\\rm{\\tilde K = K - }}{{\\rm{I}}_N}K - KI_N^T + {I_N}KI_N^T$\\\n",
    "（4） 对$\\tilde K$进行特征值分解获取较大的d个特征值， ${\\lambda _i}$ 以及对应的特征向量$u_i$,并对$u_i$进行正则化 \\\n",
    "    ${{u'}_i} = \\frac{1}{{\\sqrt {{\\lambda _i}} }}{u_i}$\n",
    "（5） 收集d个${u'}_i$,生成降维矩阵${u'}_i$,$u' \\in [d,N]$进行降维 \\\n",
    "$x' = K{{u'}^T}, x' \\in [N,D]$"
   ]
  },
  {
   "cell_type": "code",
   "execution_count": 1,
   "id": "e0008a78-5dfa-4012-a4f6-c0a8537c18a1",
   "metadata": {},
   "outputs": [],
   "source": [
    " # 导包\n",
    "import numpy as np \n",
    "import matplotlib.pyplot as plt \n",
    "\n",
    "# sigmoid 核\n",
    "def sigmoid(x1, x2, a = 0.25, r = 1): \n",
    "    x = np.dot(x1, x2) \n",
    "    return np.tanh(a * x + r) \n",
    "# 多项式核\n",
    "def linear(x1, x2, a = 1, c = 0, d = 1): \n",
    "    x = np.dot(x1, x2)\n",
    "    x = np.power((a*x + c), d) \n",
    "# 高斯核/RBF(径向基)\n",
    "def rbf(x1, x2, gamma = 10): \n",
    "    x = np.dot((x1 - x2), (x1-x2))\n",
    "    x = np.exp( -gamma * x)\n",
    "    return x"
   ]
  },
  {
   "cell_type": "code",
   "execution_count": 2,
   "id": "61a0f1dc-8c6e-4f6e-a75a-fa6aa2e741e1",
   "metadata": {},
   "outputs": [],
   "source": [
    "def kpca(data, n_dims = 2, kernel = rbf): \n",
    "    N, D = np.shape(data) \n",
    "    K = np.zeros([N, N])\n",
    "    # 利用核函数计算K \n",
    "    for i in range( N ): \n",
    "        for j in range( N ): \n",
    "            K[i, j] = kernel(data[i], data[j])\n",
    "    # 对K进行中心化 \n",
    "    one_n = np.ones(N, N) / N \n",
    "    K =  K - one_n.dot(K) - K.dot(one_n) + one_n.dot(K).dot(one_n)\n",
    "    # 计算特征值和特征向量\n",
    "    eig_values, eig_vector = np.linalg.eig(K) \n",
    "    idx = np.argsort( -eig_values)[:n_dims]\n",
    "    # 选取较大的特征值\n",
    "    eigval = eig_values[idx] \n",
    "    eigvector = eig_vector[:, idx] #[N, d] \n",
    "    # 正则化\n",
    "    eigval = eigval**(1/2)\n",
    "    u = eigvector/eigval.reshape(-1, n_dims) # u [N, d] \n",
    " \n",
    "    # 进行降维\n",
    "    data_n = np.dot(K, u) \n",
    "    return data_n"
   ]
  },
  {
   "cell_type": "code",
   "execution_count": 3,
   "id": "ac2247f7-b180-4b14-a7a3-fe2aae871ae2",
   "metadata": {},
   "outputs": [],
   "source": [
    "def draw_pca(data, labs): \n",
    "    plt.cla()\n",
    "    unique_labs = np.unique(labs)\n",
    "    colors = [plt.cm.Spectral(each)\n",
    "             for each in np.linspace(0, 1, len(unique_labs))]\n",
    "    p = [] \n",
    "    legends = [] \n",
    "    for i in range(len(unique_labs)): \n",
    "        index = np.where( labs = unique_labs[i])\n",
    "        pi = plt.scatter(datas[index, 0], datas[index, 1], c = c[colors[i]])\n",
    "        p.append(pi)\n",
    "        legends.append(unique_labs[i])\n",
    "\n",
    "    plt.legend(p, legends)\n",
    "    plt.show()"
   ]
  }
 ],
 "metadata": {
  "kernelspec": {
   "display_name": "AI-learn",
   "language": "python",
   "name": "ai-learn"
  },
  "language_info": {
   "codemirror_mode": {
    "name": "ipython",
    "version": 3
   },
   "file_extension": ".py",
   "mimetype": "text/x-python",
   "name": "python",
   "nbconvert_exporter": "python",
   "pygments_lexer": "ipython3",
   "version": "3.12.2"
  }
 },
 "nbformat": 4,
 "nbformat_minor": 5
}
